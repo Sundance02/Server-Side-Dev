{
 "cells": [
  {
   "cell_type": "code",
   "execution_count": 2,
   "id": "49691c33",
   "metadata": {},
   "outputs": [],
   "source": [
    "import os\n",
    "os.environ[\"DJANGO_ALLOW_ASYNC_UNSAFE\"] = \"true\"\n",
    "\n"
   ]
  },
  {
   "cell_type": "code",
   "execution_count": 3,
   "id": "ebea353a",
   "metadata": {},
   "outputs": [],
   "source": [
    "from w5.models import Company\n"
   ]
  },
  {
   "cell_type": "code",
   "execution_count": 4,
   "id": "68e511eb",
   "metadata": {},
   "outputs": [
    {
     "data": {
      "text/plain": [
       "<Company: Company CCC>"
      ]
     },
     "execution_count": 4,
     "metadata": {},
     "output_type": "execute_result"
    }
   ],
   "source": [
    "Company.objects.create(name=\"Company AAA\", num_employees=120, num_chairs=150, num_tables=60)\n",
    "Company.objects.create(name=\"Company BBB\", num_employees=50, num_chairs=30, num_tables=20)\n",
    "Company.objects.create(name=\"Company CCC\", num_employees=100, num_chairs=40, num_tables=40)"
   ]
  },
  {
   "cell_type": "code",
   "execution_count": 9,
   "id": "51ac58b8",
   "metadata": {},
   "outputs": [],
   "source": [
    "from django.db.models import *\n",
    "from django.db.models.functions import *\n",
    "from django.db.models.lookups import *\n",
    "\n",
    "# class Company(models.Model):\n",
    "#     name = models.CharField(max_length=100)\n",
    "#     ticker = models.CharField(max_length=20, null=True)\n",
    "#     num_employees = models.IntegerField()\n",
    "#     num_tables = models.IntegerField()\n",
    "#     num_chairs = models.IntegerField()\n",
    "\n",
    "company = Company.objects.create(name=\"Google\", \n",
    "                                 ticker=Upper(Value(\"goog\")), \n",
    "                                  num_employees = 10, \n",
    "                                    num_tables=20, \n",
    "                                    num_chairs=20)\n",
    "                                "
   ]
  },
  {
   "cell_type": "code",
   "execution_count": 10,
   "id": "fb84d2e8",
   "metadata": {},
   "outputs": [],
   "source": [
    "companies = Company.objects.all().annotate(name_UPPER=Upper('name'))"
   ]
  },
  {
   "cell_type": "code",
   "execution_count": 11,
   "id": "73c8d4ae",
   "metadata": {},
   "outputs": [
    {
     "name": "stdout",
     "output_type": "stream",
     "text": [
      "NAME :COMPANY AAA\n",
      "NAME :COMPANY BBB\n",
      "NAME :COMPANY CCC\n",
      "NAME :GOOGLE\n"
     ]
    }
   ],
   "source": [
    "for i in companies:\n",
    "    print(\"NAME :\"+i.name_UPPER)"
   ]
  },
  {
   "cell_type": "code",
   "execution_count": 18,
   "id": "53e99d53",
   "metadata": {},
   "outputs": [],
   "source": [
    "company = (\n",
    "   Company.objects.filter(num_employees__gt=F(\"num_chairs\"))\n",
    "   .annotate(chairs_needed=F(\"num_employees\") - F(\"num_chairs\"))\n",
    ")"
   ]
  },
  {
   "cell_type": "code",
   "execution_count": 19,
   "id": "1497cd9e",
   "metadata": {},
   "outputs": [
    {
     "name": "stdout",
     "output_type": "stream",
     "text": [
      "20\n",
      "60\n"
     ]
    }
   ],
   "source": [
    "for i in company:\n",
    "    print(i.chairs_needed)"
   ]
  },
  {
   "cell_type": "code",
   "execution_count": 16,
   "id": "f7f49e68",
   "metadata": {},
   "outputs": [
    {
     "name": "stdout",
     "output_type": "stream",
     "text": [
      "60\n"
     ]
    }
   ],
   "source": [
    "#อยากได้บริษัทที่ขาดเก้าอี้ > 30\n",
    "company = (\n",
    "   Company.objects.filter(num_employees__gt=F(\"num_chairs\"))\n",
    "   .annotate(chairs_needed=F(\"num_employees\") - F(\"num_chairs\")).filter(chairs_needed__gt=30)\n",
    ")\n",
    "\n",
    "print(company[0].chairs_needed)"
   ]
  },
  {
   "cell_type": "code",
   "execution_count": 22,
   "id": "c9358a96",
   "metadata": {},
   "outputs": [
    {
     "data": {
      "text/plain": [
       "<QuerySet [<Company: Company BBB>, <Company: Company CCC>]>"
      ]
     },
     "execution_count": 22,
     "metadata": {},
     "output_type": "execute_result"
    }
   ],
   "source": [
    "com1 = Company.objects.filter(GreaterThan(F(\"num_employees\"), F(\"num_chairs\")))\n",
    "\n",
    "com2 = Company.objects.filter(num_employees__gt = F(\"num_chairs\"))\n",
    "\n",
    "#ทั้ง 2 มีค่าเท่ากัน\n",
    "\n",
    "print(com2[0].)"
   ]
  },
  {
   "cell_type": "code",
   "execution_count": 24,
   "id": "e1d951d2",
   "metadata": {},
   "outputs": [
    {
     "name": "stdout",
     "output_type": "stream",
     "text": [
      "False\n"
     ]
    }
   ],
   "source": [
    "com3 = Company.objects.annotate(\n",
    "...     need_chairs=GreaterThan(F(\"num_employees\"), F(\"num_chairs\")),\n",
    "... )\n",
    "\n",
    "print(com3[0].need_chairs)"
   ]
  },
  {
   "cell_type": "code",
   "execution_count": 3,
   "id": "a7da6900",
   "metadata": {},
   "outputs": [],
   "source": [
    "from books.models import *"
   ]
  },
  {
   "cell_type": "code",
   "execution_count": 4,
   "id": "96b37035",
   "metadata": {},
   "outputs": [
    {
     "data": {
      "text/plain": [
       "59"
      ]
     },
     "execution_count": 4,
     "metadata": {},
     "output_type": "execute_result"
    }
   ],
   "source": [
    "Book.objects.count()"
   ]
  },
  {
   "cell_type": "code",
   "execution_count": 8,
   "id": "29e1be9d",
   "metadata": {},
   "outputs": [
    {
     "data": {
      "text/plain": [
       "{'sum_price': Decimal('572.41')}"
      ]
     },
     "execution_count": 8,
     "metadata": {},
     "output_type": "execute_result"
    }
   ],
   "source": [
    "from django.db.models import *\n",
    "from django.db.models.functions import *\n",
    "from django.db.models.lookups import *\n",
    "\n",
    "# from django.db import models\n",
    "\n",
    "\n",
    "# class Author(models.Model):\n",
    "#     name = models.CharField(max_length=100)\n",
    "#     age = models.IntegerField()\n",
    "\n",
    "\n",
    "# class Publisher(models.Model):\n",
    "#     name = models.CharField(max_length=300)\n",
    "\n",
    "\n",
    "# class Book(models.Model):\n",
    "#     name = models.CharField(max_length=300)\n",
    "#     pages = models.IntegerField()\n",
    "#     price = models.DecimalField(max_digits=10, decimal_places=2)\n",
    "#     rating = models.FloatField()\n",
    "#     authors = models.ManyToManyField(Author)\n",
    "#     publisher = models.ForeignKey(Publisher, on_delete=models.CASCADE)\n",
    "#     pubdate = models.DateField()\n",
    "\n",
    "\n",
    "# class Store(models.Model):\n",
    "#     name = models.CharField(max_length=300)\n",
    "#     books = models.ManyToManyField(Book)\n",
    "\n",
    "Book.objects.count()\n",
    "Book.objects.aggregate(sum_price = Sum(\"price\"))"
   ]
  },
  {
   "cell_type": "code",
   "execution_count": 7,
   "id": "2ac0fcb8",
   "metadata": {},
   "outputs": [
    {
     "data": {
      "text/plain": [
       "{'avg_rating': 4.277966101694915}"
      ]
     },
     "execution_count": 7,
     "metadata": {},
     "output_type": "execute_result"
    }
   ],
   "source": [
    "Book.objects.aggregate(avg_rating = Avg(\"rating\"))"
   ]
  },
  {
   "cell_type": "code",
   "execution_count": 21,
   "id": "c509f8f6",
   "metadata": {},
   "outputs": [
    {
     "name": "stdout",
     "output_type": "stream",
     "text": [
      "{'avg_rating': 4.340000000000001}\n"
     ]
    }
   ],
   "source": [
    "\n",
    "pen = Book.objects.filter(publisher__name = \"Penguin Books\").aggregate(avg_rating = Avg(\"rating\"))\n",
    "\n",
    "print(pen)"
   ]
  },
  {
   "cell_type": "code",
   "execution_count": 24,
   "id": "d42d42cc",
   "metadata": {},
   "outputs": [
    {
     "name": "stdout",
     "output_type": "stream",
     "text": [
      "{'avg_rating': 4.246153846153847}\n"
     ]
    }
   ],
   "source": [
    "ox = Book.objects.filter(publisher__name = \"Oxford University Press\").aggregate(avg_rating = Avg(\"rating\"))\n",
    "print(ox) "
   ]
  },
  {
   "cell_type": "code",
   "execution_count": 25,
   "id": "db901fb8",
   "metadata": {},
   "outputs": [
    {
     "data": {
      "text/plain": [
       "<QuerySet [<Publisher: Publisher object (1)>, <Publisher: Publisher object (2)>]>"
      ]
     },
     "execution_count": 25,
     "metadata": {},
     "output_type": "execute_result"
    }
   ],
   "source": [
    "# How to aggregate group by คือการใช้ annotate ร่วมกับ aggregate\n",
    "\n",
    "Publisher.objects.annotate(num_books=Count(\"book\"))\n",
    "\n"
   ]
  },
  {
   "cell_type": "code",
   "execution_count": 30,
   "id": "94519b52",
   "metadata": {},
   "outputs": [
    {
     "data": {
      "text/plain": [
       "<QuerySet [{'id': 1, 'name': 'Penguin Books', 'avg_pubs': 4.340000000000001}, {'id': 2, 'name': 'Oxford University Press', 'avg_pubs': 4.246153846153847}]>"
      ]
     },
     "execution_count": 30,
     "metadata": {},
     "output_type": "execute_result"
    }
   ],
   "source": [
    "Publisher.objects.annotate(avg_pubs=Avg(\"book__rating\")).values()"
   ]
  },
  {
   "cell_type": "code",
   "execution_count": 33,
   "id": "8f66a213",
   "metadata": {},
   "outputs": [
    {
     "data": {
      "text/plain": [
       "<QuerySet [<Author: Author object (22)>, <Author: Author object (4)>, <Author: Author object (6)>, <Author: Author object (2)>, <Author: Author object (7)>, <Author: Author object (20)>, <Author: Author object (1)>, <Author: Author object (18)>, <Author: Author object (11)>, <Author: Author object (9)>, <Author: Author object (16)>, <Author: Author object (12)>]>"
      ]
     },
     "execution_count": 33,
     "metadata": {},
     "output_type": "execute_result"
    }
   ],
   "source": [
    "# class Author(models.Model):\n",
    "#     name = models.CharField(max_length=100)\n",
    "#     age = models.IntegerField()\n",
    "\n",
    "\n",
    "# class Publisher(models.Model):\n",
    "#     name = models.CharField(max_length=300)\n",
    "\n",
    "\n",
    "# class Book(models.Model):\n",
    "#     name = models.CharField(max_length=300)\n",
    "#     pages = models.IntegerField()\n",
    "#     price = models.DecimalField(max_digits=10, decimal_places=2)\n",
    "#     rating = models.FloatField()\n",
    "#     authors = models.ManyToManyField(Author)\n",
    "#     publisher = models.ForeignKey(Publisher, on_delete=models.CASCADE)\n",
    "#     pubdate = models.DateField()\n",
    "\n",
    "\n",
    "# class Store(models.Model):\n",
    "#     name = models.CharField(max_length=300)\n",
    "#     books = models.ManyToManyField(Book)\n",
    "\n",
    "\n",
    "# EX group by\n",
    "# หาค่าเฉลี่ย rating ของนักเขียน โดยมี rating > 4.2\n",
    "\n",
    "Author.objects.annotate(avg_rating = Avg(\"book__rating\")).filter(avg_rating__gt = 4.2)"
   ]
  },
  {
   "cell_type": "code",
   "execution_count": null,
   "id": "0f9aa8d5",
   "metadata": {},
   "outputs": [],
   "source": []
  }
 ],
 "metadata": {
  "kernelspec": {
   "display_name": "Django Shell-Plus",
   "language": "python",
   "name": "django_extensions"
  },
  "language_info": {
   "codemirror_mode": {
    "name": "ipython",
    "version": 3
   },
   "file_extension": ".py",
   "mimetype": "text/x-python",
   "name": "python",
   "nbconvert_exporter": "python",
   "pygments_lexer": "ipython3",
   "version": "3.12.3"
  }
 },
 "nbformat": 4,
 "nbformat_minor": 5
}
