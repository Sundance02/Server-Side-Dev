{
 "cells": [
  {
   "cell_type": "markdown",
   "metadata": {},
   "source": [
    "![erd](images/ERD.png)"
   ]
  },
  {
   "cell_type": "markdown",
   "metadata": {},
   "source": [
    "## Instruction\n",
    "\n",
    "1. ใช้ project myshop เดิมจากของ WEEK 4 มาทำต่อได้เลยครับ (ใครที่หา project ของ WEEK 4 ไม่เจอแล้ว ให้กลับไปทำตามขั้ยตอนใน week4_exercises.ipynb)\n",
    "2. ใช้ database `shop` เดิมได้เลยเช่นกันครับ"
   ]
  },
  {
   "cell_type": "code",
   "execution_count": 1,
   "metadata": {},
   "outputs": [],
   "source": [
    "import os\n",
    "os.environ['DJANGO_ALLOW_ASYNC_UNSAFE'] = \"true\"\n",
    "\n",
    "# import modules\n",
    "from shop.models import *"
   ]
  },
  {
   "cell_type": "markdown",
   "metadata": {},
   "source": [
    "### 1. annotate(), F()"
   ]
  },
  {
   "cell_type": "markdown",
   "metadata": {},
   "source": [
    "1.1 ให้นักศึกษาค้นหาข้อมูล `Payment` โดยให้เพิ่ม field ราคาที่ลบกับส่วนลดแล้ว โดยกำหนดให้ชื่อ field ว่า \"after_discount_price\" โดยใช้แสดงข้อมูล 10 ตัวแรกเรียงตาม \"after_discount_price\" จากมากไปน้อย (0.25 คะแนน)\n",
    "\n",
    "**หมายเหตุ: จะต้องใช้ annotate() นะครับ**\n",
    "\n",
    "ตัวอย่าง Output\n",
    "\n",
    "```\n",
    "ID: 92, PRICE: 1200500.00, DISCOUNT 29433.25, AFTER_DISCOUNT 1171066.75\n",
    "ID: 82, PRICE: 1200280.00, DISCOUNT 46229.40, AFTER_DISCOUNT 1154050.60\n",
    "ID: 137, PRICE: 1200690.00, DISCOUNT 71407.25, AFTER_DISCOUNT 1129282.75\n",
    "ID: 105, PRICE: 1200390.00, DISCOUNT 105019.11, AFTER_DISCOUNT 1095370.89\n",
    "ID: 45, PRICE: 1218900.00, DISCOUNT 126859.95, AFTER_DISCOUNT 1092040.05\n",
    "ID: 7, PRICE: 1201200.00, DISCOUNT 113446.20, AFTER_DISCOUNT 1087753.80\n",
    "ID: 18, PRICE: 1202190.00, DISCOUNT 121922.64, AFTER_DISCOUNT 1080267.36\n",
    "ID: 77, PRICE: 379000.00, DISCOUNT 19397.00, AFTER_DISCOUNT 359603.00\n",
    "ID: 127, PRICE: 320450.00, DISCOUNT 14578.90, AFTER_DISCOUNT 305871.10\n",
    "ID: 125, PRICE: 320399.00, DISCOUNT 17939.55, AFTER_DISCOUNT 302459.45\n",
    "```"
   ]
  },
  {
   "cell_type": "code",
   "execution_count": 38,
   "metadata": {},
   "outputs": [
    {
     "name": "stdout",
     "output_type": "stream",
     "text": [
      "ID: 92, PRICE: 1200500.00, DISCOUNT 29433.25, AFTER_DISCOUNT 1171066.75\n",
      "ID: 82, PRICE: 1200280.00, DISCOUNT 46229.40, AFTER_DISCOUNT 1154050.60\n",
      "ID: 137, PRICE: 1200690.00, DISCOUNT 71407.25, AFTER_DISCOUNT 1129282.75\n",
      "ID: 105, PRICE: 1200390.00, DISCOUNT 105019.11, AFTER_DISCOUNT 1095370.89\n",
      "ID: 45, PRICE: 1218900.00, DISCOUNT 126859.95, AFTER_DISCOUNT 1092040.05\n",
      "ID: 7, PRICE: 1201200.00, DISCOUNT 113446.20, AFTER_DISCOUNT 1087753.80\n",
      "ID: 18, PRICE: 1202190.00, DISCOUNT 121922.64, AFTER_DISCOUNT 1080267.36\n"
     ]
    }
   ],
   "source": [
    "from django.db.models import Count, F, Value\n",
    "discount_order = Payment.objects.annotate(after_discount_price=F(\"price\")-F(\"discount\")).order_by(\"-after_discount_price\")[:10]\n",
    "\n",
    "for i in discount_order:\n",
    "    print(\"ID: \"+str(i.id)+\", PRICE: \"+ str(i.price)+\", DISCOUNT \"+str(i.discount)+\", AFTER_DISCOUNT \"+str(i.after_discount_price))\n",
    "    \n"
   ]
  },
  {
   "cell_type": "markdown",
   "metadata": {},
   "source": [
    "1.2 ต่อเนื่องจากข้อ 1.1 ให้ filter เฉพาะข้อมูล `Payment` ที่มี \"after_discount_price\" มากกว่า 500,000 (0.25 คะแนน)\n",
    "\n",
    "ตัวอย่าง Output\n",
    "\n",
    "```\n",
    "ID: 92, PRICE: 1200500.00, DISCOUNT 29433.25, AFTER_DISCOUNT 1171066.75\n",
    "ID: 82, PRICE: 1200280.00, DISCOUNT 46229.40, AFTER_DISCOUNT 1154050.60\n",
    "ID: 137, PRICE: 1200690.00, DISCOUNT 71407.25, AFTER_DISCOUNT 1129282.75\n",
    "ID: 105, PRICE: 1200390.00, DISCOUNT 105019.11, AFTER_DISCOUNT 1095370.89\n",
    "ID: 45, PRICE: 1218900.00, DISCOUNT 126859.95, AFTER_DISCOUNT 1092040.05\n",
    "ID: 7, PRICE: 1201200.00, DISCOUNT 113446.20, AFTER_DISCOUNT 1087753.80\n",
    "ID: 18, PRICE: 1202190.00, DISCOUNT 121922.64, AFTER_DISCOUNT 1080267.36\n",
    "```"
   ]
  },
  {
   "cell_type": "code",
   "execution_count": 73,
   "metadata": {},
   "outputs": [
    {
     "name": "stdout",
     "output_type": "stream",
     "text": [
      "ID: 92, PRICE: 1200500.00, DISCOUNT 29433.25, AFTER_DISCOUNT 1171066.75\n",
      "ID: 82, PRICE: 1200280.00, DISCOUNT 46229.40, AFTER_DISCOUNT 1154050.60\n",
      "ID: 137, PRICE: 1200690.00, DISCOUNT 71407.25, AFTER_DISCOUNT 1129282.75\n",
      "ID: 105, PRICE: 1200390.00, DISCOUNT 105019.11, AFTER_DISCOUNT 1095370.89\n",
      "ID: 45, PRICE: 1218900.00, DISCOUNT 126859.95, AFTER_DISCOUNT 1092040.05\n",
      "ID: 7, PRICE: 1201200.00, DISCOUNT 113446.20, AFTER_DISCOUNT 1087753.80\n",
      "ID: 18, PRICE: 1202190.00, DISCOUNT 121922.64, AFTER_DISCOUNT 1080267.36\n"
     ]
    }
   ],
   "source": [
    "discount_gt = Payment.objects.annotate(after_discount_price=F(\"price\")-F(\"discount\")).filter(after_discount_price__gt=500000).order_by(\"-after_discount_price\")\n",
    "\n",
    "for i in discount_gt:\n",
    "    print(\"ID: \"+str(i.id)+\", PRICE: \"+ str(i.price)+\", DISCOUNT \"+str(i.discount)+\", AFTER_DISCOUNT \"+str(i.after_discount_price))\n"
   ]
  },
  {
   "cell_type": "markdown",
   "metadata": {},
   "source": [
    "1.3 ให้นักศึกษาเรียงลำดับข้อมูลลูกค้า (`Customer`) โดยเรียงลำดับตามลำดับตัวอักษร `น้อยไปมาก` จากชื่อเต็มของลูกค้า (`full_name`) โดยแสดง 5 คนแรก (0.5 คะแนน)\n",
    "\n",
    "**Hint:** Field `full_name` นั้นจะต้องถูก annotate ขึ้นมาโดยการนำ `first_name` มาต่อกับ `last_name` โดยใช้ `Concat(*expressions, **extra)` \n",
    "\n",
    "**Hint:** แปลง object เป็น dict ใช้ `values()` [doc](https://docs.djangoproject.com/en/5.0/ref/models/querysets/#values)\n",
    "\n",
    "```python\n",
    ">>> Blog.objects.filter(name__startswith=\"Beatles\").values()\n",
    "<QuerySet [{'id': 1, 'name': 'Beatles Blog', 'tagline': 'All the latest Beatles news.'}]>\n",
    "```\n",
    "\n",
    "**Hint:** อยาก print dictionary สวยๆ ใช้ `json.dumps`\n",
    "\n",
    "```python\n",
    "print(json.dumps(dictionary, indent=4, sort_keys=False))\n",
    "```\n",
    "\n",
    "[doc](https://docs.djangoproject.com/en/5.0/ref/models/database-functions/#concat)\n",
    "\n",
    "ตัวอย่าง Output \n",
    "\n",
    "```python\n",
    "{\n",
    "    \"id\": 17,\n",
    "    \"email\": \"anantaya.deena@gmail.com\",\n",
    "    \"address\": {\n",
    "        \"district\": \"Yan Nawa\",\n",
    "        \"location\": \"60 Thanon Chan Road\",\n",
    "        \"province\": \"Bangkok\",\n",
    "        \"postal_code\": 10120\n",
    "    },\n",
    "    \"full_name\": \"Anantaya Tontong\"\n",
    "}\n",
    "{\n",
    "    \"id\": 25,\n",
    "    \"email\": \"bancha.zeyou@gmail.com\",\n",
    "    \"address\": {\n",
    "        \"district\": \"Watthana\",\n",
    "        \"location\": \"6 Thong Lo Road\",\n",
    "        \"province\": \"Bangkok\",\n",
    "        \"postal_code\": 10110\n",
    "    },\n",
    "    \"full_name\": \"Bancha Kittisompong\"\n",
    "}\n",
    "{\n",
    "    \"id\": 19,\n",
    "    \"email\": \"chayapol.231@gmail.com\",\n",
    "    \"address\": {\n",
    "        \"district\": \"Hang Chat\",\n",
    "        \"location\": \"160 Lampang Road\",\n",
    "        \"province\": \"Lampang\",\n",
    "        \"postal_code\": 52190\n",
    "    },\n",
    "    \"full_name\": \"Chayapol Komprach\"\n",
    "}\n",
    "{\n",
    "    \"id\": 4,\n",
    "    \"email\": \"dejwit.tt@gmail.com\",\n",
    "    \"address\": {\n",
    "        \"district\": \"Chiang Khan\",\n",
    "        \"location\": \"150 Loei Road\",\n",
    "        \"province\": \"Loei\",\n",
    "        \"postal_code\": 42110\n",
    "    },\n",
    "    \"full_name\": \"Dejwit Tangjareonsakul\"\n",
    "}\n",
    "{\n",
    "    \"id\": 11,\n",
    "    \"email\": \"jack.maa@gmail.com\",\n",
    "    \"address\": {\n",
    "        \"district\": \"Bang Khen\",\n",
    "        \"location\": \"88 Phahonyothin Road\",\n",
    "        \"province\": \"Bangkok\",\n",
    "        \"postal_code\": 10220\n",
    "    },\n",
    "    \"full_name\": \"Jack Maa\"\n",
    "}\n",
    "\n",
    "```"
   ]
  },
  {
   "cell_type": "code",
   "execution_count": 60,
   "metadata": {},
   "outputs": [
    {
     "ename": "TypeError",
     "evalue": "Object of type QuerySet is not JSON serializable",
     "output_type": "error",
     "traceback": [
      "\u001b[1;31m---------------------------------------------------------------------------\u001b[0m",
      "\u001b[1;31mTypeError\u001b[0m                                 Traceback (most recent call last)",
      "Cell \u001b[1;32mIn[60], line 6\u001b[0m\n\u001b[0;32m      2\u001b[0m \u001b[38;5;28;01mimport\u001b[39;00m \u001b[38;5;21;01mjson\u001b[39;00m\n\u001b[0;32m      4\u001b[0m cus_name \u001b[38;5;241m=\u001b[39m Customer\u001b[38;5;241m.\u001b[39mobjects\u001b[38;5;241m.\u001b[39mannotate(full_name \u001b[38;5;241m=\u001b[39m Concat(\u001b[38;5;124m'\u001b[39m\u001b[38;5;124mfirst_name\u001b[39m\u001b[38;5;124m'\u001b[39m, Value(\u001b[38;5;124m\"\u001b[39m\u001b[38;5;124m \u001b[39m\u001b[38;5;124m\"\u001b[39m),\u001b[38;5;124m'\u001b[39m\u001b[38;5;124mlast_name\u001b[39m\u001b[38;5;124m'\u001b[39m))\u001b[38;5;241m.\u001b[39morder_by(\u001b[38;5;124m\"\u001b[39m\u001b[38;5;124mfull_name\u001b[39m\u001b[38;5;124m\"\u001b[39m)[:\u001b[38;5;241m5\u001b[39m]\n\u001b[1;32m----> 6\u001b[0m \u001b[43mjson\u001b[49m\u001b[38;5;241;43m.\u001b[39;49m\u001b[43mdumps\u001b[49m\u001b[43m(\u001b[49m\u001b[43mcus_name\u001b[49m\u001b[43m,\u001b[49m\u001b[43m \u001b[49m\u001b[43mindent\u001b[49m\u001b[38;5;241;43m=\u001b[39;49m\u001b[38;5;241;43m4\u001b[39;49m\u001b[43m,\u001b[49m\u001b[43m \u001b[49m\u001b[43msort_keys\u001b[49m\u001b[38;5;241;43m=\u001b[39;49m\u001b[38;5;28;43;01mFalse\u001b[39;49;00m\u001b[43m)\u001b[49m\n",
      "File \u001b[1;32m~\\AppData\\Local\\Programs\\Python\\Python312\\Lib\\json\\__init__.py:238\u001b[0m, in \u001b[0;36mdumps\u001b[1;34m(obj, skipkeys, ensure_ascii, check_circular, allow_nan, cls, indent, separators, default, sort_keys, **kw)\u001b[0m\n\u001b[0;32m    232\u001b[0m \u001b[38;5;28;01mif\u001b[39;00m \u001b[38;5;28mcls\u001b[39m \u001b[38;5;129;01mis\u001b[39;00m \u001b[38;5;28;01mNone\u001b[39;00m:\n\u001b[0;32m    233\u001b[0m     \u001b[38;5;28mcls\u001b[39m \u001b[38;5;241m=\u001b[39m JSONEncoder\n\u001b[0;32m    234\u001b[0m \u001b[38;5;28;01mreturn\u001b[39;00m \u001b[38;5;28;43mcls\u001b[39;49m\u001b[43m(\u001b[49m\n\u001b[0;32m    235\u001b[0m \u001b[43m    \u001b[49m\u001b[43mskipkeys\u001b[49m\u001b[38;5;241;43m=\u001b[39;49m\u001b[43mskipkeys\u001b[49m\u001b[43m,\u001b[49m\u001b[43m \u001b[49m\u001b[43mensure_ascii\u001b[49m\u001b[38;5;241;43m=\u001b[39;49m\u001b[43mensure_ascii\u001b[49m\u001b[43m,\u001b[49m\n\u001b[0;32m    236\u001b[0m \u001b[43m    \u001b[49m\u001b[43mcheck_circular\u001b[49m\u001b[38;5;241;43m=\u001b[39;49m\u001b[43mcheck_circular\u001b[49m\u001b[43m,\u001b[49m\u001b[43m \u001b[49m\u001b[43mallow_nan\u001b[49m\u001b[38;5;241;43m=\u001b[39;49m\u001b[43mallow_nan\u001b[49m\u001b[43m,\u001b[49m\u001b[43m \u001b[49m\u001b[43mindent\u001b[49m\u001b[38;5;241;43m=\u001b[39;49m\u001b[43mindent\u001b[49m\u001b[43m,\u001b[49m\n\u001b[0;32m    237\u001b[0m \u001b[43m    \u001b[49m\u001b[43mseparators\u001b[49m\u001b[38;5;241;43m=\u001b[39;49m\u001b[43mseparators\u001b[49m\u001b[43m,\u001b[49m\u001b[43m \u001b[49m\u001b[43mdefault\u001b[49m\u001b[38;5;241;43m=\u001b[39;49m\u001b[43mdefault\u001b[49m\u001b[43m,\u001b[49m\u001b[43m \u001b[49m\u001b[43msort_keys\u001b[49m\u001b[38;5;241;43m=\u001b[39;49m\u001b[43msort_keys\u001b[49m\u001b[43m,\u001b[49m\n\u001b[1;32m--> 238\u001b[0m \u001b[43m    \u001b[49m\u001b[38;5;241;43m*\u001b[39;49m\u001b[38;5;241;43m*\u001b[39;49m\u001b[43mkw\u001b[49m\u001b[43m)\u001b[49m\u001b[38;5;241;43m.\u001b[39;49m\u001b[43mencode\u001b[49m\u001b[43m(\u001b[49m\u001b[43mobj\u001b[49m\u001b[43m)\u001b[49m\n",
      "File \u001b[1;32m~\\AppData\\Local\\Programs\\Python\\Python312\\Lib\\json\\encoder.py:202\u001b[0m, in \u001b[0;36mJSONEncoder.encode\u001b[1;34m(self, o)\u001b[0m\n\u001b[0;32m    200\u001b[0m chunks \u001b[38;5;241m=\u001b[39m \u001b[38;5;28mself\u001b[39m\u001b[38;5;241m.\u001b[39miterencode(o, _one_shot\u001b[38;5;241m=\u001b[39m\u001b[38;5;28;01mTrue\u001b[39;00m)\n\u001b[0;32m    201\u001b[0m \u001b[38;5;28;01mif\u001b[39;00m \u001b[38;5;129;01mnot\u001b[39;00m \u001b[38;5;28misinstance\u001b[39m(chunks, (\u001b[38;5;28mlist\u001b[39m, \u001b[38;5;28mtuple\u001b[39m)):\n\u001b[1;32m--> 202\u001b[0m     chunks \u001b[38;5;241m=\u001b[39m \u001b[38;5;28;43mlist\u001b[39;49m\u001b[43m(\u001b[49m\u001b[43mchunks\u001b[49m\u001b[43m)\u001b[49m\n\u001b[0;32m    203\u001b[0m \u001b[38;5;28;01mreturn\u001b[39;00m \u001b[38;5;124m'\u001b[39m\u001b[38;5;124m'\u001b[39m\u001b[38;5;241m.\u001b[39mjoin(chunks)\n",
      "File \u001b[1;32m~\\AppData\\Local\\Programs\\Python\\Python312\\Lib\\json\\encoder.py:439\u001b[0m, in \u001b[0;36m_make_iterencode.<locals>._iterencode\u001b[1;34m(o, _current_indent_level)\u001b[0m\n\u001b[0;32m    437\u001b[0m         \u001b[38;5;28;01mraise\u001b[39;00m \u001b[38;5;167;01mValueError\u001b[39;00m(\u001b[38;5;124m\"\u001b[39m\u001b[38;5;124mCircular reference detected\u001b[39m\u001b[38;5;124m\"\u001b[39m)\n\u001b[0;32m    438\u001b[0m     markers[markerid] \u001b[38;5;241m=\u001b[39m o\n\u001b[1;32m--> 439\u001b[0m o \u001b[38;5;241m=\u001b[39m \u001b[43m_default\u001b[49m\u001b[43m(\u001b[49m\u001b[43mo\u001b[49m\u001b[43m)\u001b[49m\n\u001b[0;32m    440\u001b[0m \u001b[38;5;28;01myield from\u001b[39;00m _iterencode(o, _current_indent_level)\n\u001b[0;32m    441\u001b[0m \u001b[38;5;28;01mif\u001b[39;00m markers \u001b[38;5;129;01mis\u001b[39;00m \u001b[38;5;129;01mnot\u001b[39;00m \u001b[38;5;28;01mNone\u001b[39;00m:\n",
      "File \u001b[1;32m~\\AppData\\Local\\Programs\\Python\\Python312\\Lib\\json\\encoder.py:180\u001b[0m, in \u001b[0;36mJSONEncoder.default\u001b[1;34m(self, o)\u001b[0m\n\u001b[0;32m    161\u001b[0m \u001b[38;5;28;01mdef\u001b[39;00m \u001b[38;5;21mdefault\u001b[39m(\u001b[38;5;28mself\u001b[39m, o):\n\u001b[0;32m    162\u001b[0m \u001b[38;5;250m    \u001b[39m\u001b[38;5;124;03m\"\"\"Implement this method in a subclass such that it returns\u001b[39;00m\n\u001b[0;32m    163\u001b[0m \u001b[38;5;124;03m    a serializable object for ``o``, or calls the base implementation\u001b[39;00m\n\u001b[0;32m    164\u001b[0m \u001b[38;5;124;03m    (to raise a ``TypeError``).\u001b[39;00m\n\u001b[1;32m   (...)\u001b[0m\n\u001b[0;32m    178\u001b[0m \n\u001b[0;32m    179\u001b[0m \u001b[38;5;124;03m    \"\"\"\u001b[39;00m\n\u001b[1;32m--> 180\u001b[0m     \u001b[38;5;28;01mraise\u001b[39;00m \u001b[38;5;167;01mTypeError\u001b[39;00m(\u001b[38;5;124mf\u001b[39m\u001b[38;5;124m'\u001b[39m\u001b[38;5;124mObject of type \u001b[39m\u001b[38;5;132;01m{\u001b[39;00mo\u001b[38;5;241m.\u001b[39m\u001b[38;5;18m__class__\u001b[39m\u001b[38;5;241m.\u001b[39m\u001b[38;5;18m__name__\u001b[39m\u001b[38;5;132;01m}\u001b[39;00m\u001b[38;5;124m \u001b[39m\u001b[38;5;124m'\u001b[39m\n\u001b[0;32m    181\u001b[0m                     \u001b[38;5;124mf\u001b[39m\u001b[38;5;124m'\u001b[39m\u001b[38;5;124mis not JSON serializable\u001b[39m\u001b[38;5;124m'\u001b[39m)\n",
      "\u001b[1;31mTypeError\u001b[0m: Object of type QuerySet is not JSON serializable"
     ]
    }
   ],
   "source": [
    "from django.db.models.functions import Concat\n",
    "import json\n",
    "\n",
    "cus_name = Customer.objects.annotate(full_name = Concat('first_name', Value(\" \"),'last_name')).order_by(\"full_name\")[:5]\n",
    "\n",
    "json.dumps(cus_name, indent=4, sort_keys=False)"
   ]
  },
  {
   "cell_type": "markdown",
   "metadata": {},
   "source": [
    "### 3. aggregation - count(), sum(), AVG()\n"
   ]
  },
  {
   "cell_type": "markdown",
   "metadata": {},
   "source": [
    "3.1 ให้นักศึกษาหาค่าเฉลี่ยของราคาสินค้า (`Product.price`) ที่มีจำนวนคงเหลือ (`Product.remaining_amount`) มากกว่า 0 (0.25 คะแนน)\n",
    "\n",
    "``` PYTHON\n",
    "{'avg': Decimal('29308.000000000000')}\n",
    "```\n"
   ]
  },
  {
   "cell_type": "code",
   "execution_count": 2,
   "metadata": {},
   "outputs": [
    {
     "name": "stdout",
     "output_type": "stream",
     "text": [
      "{'avg': Decimal('29162.562500000000')}\n"
     ]
    }
   ],
   "source": [
    "from django.db.models import Avg\n",
    "\n",
    "product_avg = Product.objects.filter(remaining_amount__gt = 0).aggregate(avg=Avg(\"price\"))\n",
    "\n",
    "\n",
    "print(product_avg)"
   ]
  },
  {
   "cell_type": "markdown",
   "metadata": {},
   "source": [
    "3.2 จงหาผลรวมราคา (`CartItem.product.price`) ที่อยู่ในตระกร้าสินค้าของเดือน `พฤษภาคม` (ดูจาก `Cart.create_date`) (0.5 คะแนน)\n",
    "\n",
    "```PYTHON\n",
    "{'sum': Decimal('9912555.00')}\n",
    "\n",
    "```"
   ]
  },
  {
   "cell_type": "code",
   "execution_count": 90,
   "metadata": {},
   "outputs": [
    {
     "name": "stdout",
     "output_type": "stream",
     "text": [
      "{'sum': Decimal('9912555.00')}\n"
     ]
    }
   ],
   "source": [
    "from django.db.models import Avg\n",
    "\n",
    "product_sum = CartItem.objects.filter(cart__create_date__month = 5).aggregate(sum=Sum(\"product__price\"))\n",
    "\n",
    "\n",
    "print(product_sum)"
   ]
  },
  {
   "cell_type": "markdown",
   "metadata": {},
   "source": [
    "3.3 ให้นักศึกษานับจำนวนสินค้าที่อยู่ประเภท `Electronics`,  `Jewelry` และ ราคาของสินค้าอยู่ในช่วง 8,000.00 - 50,000.00 (0.25 คะแนน)\n",
    "\n",
    "```\n",
    "PRODUCT CATEGORY NAME: Electronics, PRODUCT COUNT: 6\n",
    "PRODUCT CATEGORY NAME: Jewelry, PRODUCT COUNT: 1\n",
    "```"
   ]
  },
  {
   "cell_type": "code",
   "execution_count": 77,
   "metadata": {},
   "outputs": [
    {
     "name": "stdout",
     "output_type": "stream",
     "text": [
      "6\n",
      "1\n"
     ]
    }
   ],
   "source": [
    "from django.db.models import Count, Sum\n",
    "from django.db.models import Q, F\n",
    "\n",
    "\n",
    "\n",
    "product_elec = Product.objects.filter(categories__name = \"Electronics\", price__range=(8000,50000)).count()\n",
    "product_jew = Product.objects.filter(categories__name = \"Jewelry\", price__range=(8000,50000)).count()\n",
    "\n",
    "\n",
    "\n",
    "\n",
    "print(product_elec)\n",
    "\n",
    "print(product_jew)\n",
    "\n",
    "\n",
    "\n"
   ]
  },
  {
   "cell_type": "markdown",
   "metadata": {},
   "source": [
    "### 4. one-to-one & one-to-many"
   ]
  },
  {
   "cell_type": "markdown",
   "metadata": {},
   "source": [
    "4.1 ให้นักศึกษาทำการ INSERT ข้อมูลใบสั่งซื้อ (`Order`) และการชำระเงิน (`Payment`) ของลูกค้าชื่อ `Manit Senapan` ตามรายการดังนี้ให้สมบูรณ์ (0.5 คะแนน)\n",
    "\n",
    "**Hint:** ใน model `Payment` เรามีการเก็บค่า `price` เป็น Decimal ทำให้ค่าของราคาเป็น Decimal เช่นกัน)\n",
    "[Decimal](https://docs.python.org/3/library/decimal.html)\n",
    "\n",
    "- ออกใบสั่งซื้อวันที่ 5 สิงหาคม 2024\n",
    "- ชำระเงินวันที่ 6 สิงหาคม 2024\n",
    "- หมายเหตุ: `ฉันรวย อยากใช้เงินเยอะๆ`\n",
    "    \n",
    "    โดย Manit สั่งสิ้นค้าดั่งนี้\n",
    "\n",
    "        - Diamond Stud Earrings จำนวน 1 ชิ้น\n",
    "\n",
    "        - Sofa จำนวน 2 ชิ้น\n",
    "\n",
    "        - Rose Gold Hoop Earrings จำนวน 1 ชิ้น\n",
    "    \n",
    "- โดยที่ Manit ได้รับส่วนลดชิ้นละ 10 % ของสินค้า และมีการระบุหมายเหตุตอนชำระเงินว่า `ลูกค้า VIP ของเรา`\n",
    "    \n",
    "- พร้อมชำระเงินโดยให้ 50 % ของราคาทั้งหมดชำระด้วยการแสกน QR code และที่เหลือชำระผ่านบัตรเคดิต\n",
    "\n",
    "- จากนั้นให้ระบบแสดงผลการสร้างใบสั่งซื้อ และการชำระเงินของ Manit ให้ถูกต้อง\n",
    "\n",
    "\n",
    "ตัวอย่าง output ที่ต้องการ\n",
    "```PYTHON\n",
    "{\n",
    "    'order_id': 186,\n",
    "    'order_date': '2024-08-05',\n",
    "    'order_remark': 'ฉันรวย อยากใช้เงินเยอะๆ',\n",
    "    'products': [\n",
    "        {\n",
    "            'product': 'Diamond Stud Earrings',\n",
    "            'amount': 1,\n",
    "            'price': 320000.0,\n",
    "            'discount': 32000.0\n",
    "        },\n",
    "        {\n",
    "            'product': 'Sofa', \n",
    "            'amount': 2, \n",
    "            'price': 14000.0, \n",
    "            'discount': 1400.0\n",
    "        },\n",
    "        {\n",
    "            'product': 'Rose Gold Hoop Earrings',\n",
    "            'amount': 1,\n",
    "            'price': 1200000.0,\n",
    "            'discount': 120000.0\n",
    "        }\n",
    "    ],\n",
    "    'payment_date': '2024-08-06',\n",
    "    'payment_remark': 'ลูกค้า VIP ของเรา',\n",
    "    'payment_method': [\n",
    "        {\n",
    "            'method': 'QR', \n",
    "            'price': 767000.0\n",
    "        },\n",
    "        {\n",
    "            'method': 'CREDIT', \n",
    "            'price': 767000.0\n",
    "        }\n",
    "    ]\n",
    "}\n",
    "\n",
    "```"
   ]
  },
  {
   "cell_type": "code",
   "execution_count": null,
   "metadata": {},
   "outputs": [],
   "source": [
    "\n",
    "cus = Customer.objects.filter(first_name = \"Manit\")\n",
    "\n",
    "order1 = Order.objects.create(customer = cus.id, order_date = \"2024-08-05\", remark = \"ฉันรวย อยากใช้เงินเยอะๆ\")\n",
    "\n",
    "diamond = Product.objects.filter(name = \"Diamond Stud Earrings\")\n",
    "sofa = Product.objects.filter(name = \"Sofa\")\n",
    "Gold = Product.objects.filter(name = \"Rose Gold Hoop Earrings\")\n",
    "\n",
    "order_item1 = OrderItem.objects.create(order = order1.id, product =diamond.id , amount = 1)\n",
    "order_item2 = OrderItem.objects.create(order = order1.id, product =sofa.id , amount = 2)\n",
    "order_item3 = OrderItem.objects.create(order = order1.id, product =Gold.id , amount = 1)\n",
    "\n",
    "pay = Payment.objects.create(order = order1.id, payment_date=\"2024-08-06\", remark=\"ลูกค้า VIP ของเรา\", price)"
   ]
  },
  {
   "cell_type": "code",
   "execution_count": null,
   "metadata": {},
   "outputs": [],
   "source": [
    "# code here - แสดงผล"
   ]
  },
  {
   "cell_type": "markdown",
   "metadata": {},
   "source": [
    "### 5. many-to-many"
   ]
  },
  {
   "cell_type": "markdown",
   "metadata": {},
   "source": [
    "5.1 ให้นักศึกษาค้นหาข้อมูลสินค้า (`Product`) ที่อยู่ในประเภทสินค้า \"Information technology\" 10 รายการแรก (เรียงลำดับด้วย `Product.id`) และแสดงชื่อประเภทสินค้า (`ProductCategory`) (0.25 คะแนน)\n",
    "\n",
    "ตัวอย่าง Output บางส่วน\n",
    "\n",
    "```\n",
    "PRODUCT ID: 1, PRODUCT NAME: Smartphone, PRODUCT CATEGORY: Information technology, Electronics\n",
    "PRODUCT ID: 2, PRODUCT NAME: Laptop, PRODUCT CATEGORY: Information technology, Electronics\n",
    "PRODUCT ID: 3, PRODUCT NAME: Smart TV, PRODUCT CATEGORY: Information technology, Electronics\n",
    "```"
   ]
  },
  {
   "cell_type": "code",
   "execution_count": 114,
   "metadata": {},
   "outputs": [
    {
     "name": "stdout",
     "output_type": "stream",
     "text": [
      "PRODUCT ID: 1, PRODUCT NAME: Smartphone, PRODUCT CATEGORY: Information Technology , Electronics \n",
      "\n",
      "PRODUCT ID: 2, PRODUCT NAME: Laptop, PRODUCT CATEGORY: Information Technology , Electronics \n",
      "\n",
      "PRODUCT ID: 3, PRODUCT NAME: Smart TV, PRODUCT CATEGORY: Information Technology , Electronics \n",
      "\n",
      "PRODUCT ID: 4, PRODUCT NAME: Bluetooth Earphones, PRODUCT CATEGORY: Information Technology , Electronics \n",
      "\n",
      "PRODUCT ID: 5, PRODUCT NAME: Tablet, PRODUCT CATEGORY: Information Technology , Electronics \n",
      "\n",
      "PRODUCT ID: 6, PRODUCT NAME: Gaming Console, PRODUCT CATEGORY: Information Technology , Electronics \n",
      "\n",
      "PRODUCT ID: 7, PRODUCT NAME: Digital Camera, PRODUCT CATEGORY: Information Technology , Electronics \n",
      "\n",
      "PRODUCT ID: 8, PRODUCT NAME: Wireless Router, PRODUCT CATEGORY: Information Technology , Electronics \n",
      "\n",
      "PRODUCT ID: 9, PRODUCT NAME: Portable Power Bank, PRODUCT CATEGORY: Information Technology , Electronics \n",
      "\n",
      "PRODUCT ID: 10, PRODUCT NAME: Smartwatch, PRODUCT CATEGORY: Information Technology , Electronics \n",
      "\n"
     ]
    }
   ],
   "source": [
    "pro = Product.objects.filter(categories__name = \"Information Technology\").order_by(\"id\")[:10]\n",
    "\n",
    "for i in pro:\n",
    "    print(\"PRODUCT ID: \"+str(i.id)+\", PRODUCT NAME: \"+i.name, end =\", PRODUCT CATEGORY: \")\n",
    "    count = i.categories.all().count()\n",
    "    for j in i.categories.all():\n",
    "        print(j.name, end=\" \")\n",
    "        count -= 1\n",
    "        if count != 0:\n",
    "            print(\",\", end=\" \")\n",
    "    print(\"\\n\")"
   ]
  },
  {
   "cell_type": "markdown",
   "metadata": {},
   "source": [
    "5.2 ให้นักศึกษาทำตามขั้นตอนดังนี้ (0.25 คะแนน)\n",
    "\n",
    "    1. เปลี่ยนชื่อประเภทสินค้า `Books and Media` เป็น `Books and Toys` \n",
    "    2. ลบประเภท `Toys and Games` ออกโดยให้ใช้เป็น `Books and Toys` แทน\n",
    "    3. ค้นหาว่าสินค้าที่มีประเภทสินค้าเป็น `Books and Toys` ทั้งหมดมีจำนวนเท่าไหร่"
   ]
  },
  {
   "cell_type": "code",
   "execution_count": 143,
   "metadata": {},
   "outputs": [
    {
     "ename": "DoesNotExist",
     "evalue": "ProductCategory matching query does not exist.",
     "output_type": "error",
     "traceback": [
      "\u001b[1;31m---------------------------------------------------------------------------\u001b[0m",
      "\u001b[1;31mDoesNotExist\u001b[0m                              Traceback (most recent call last)",
      "Cell \u001b[1;32mIn[143], line 14\u001b[0m\n\u001b[0;32m     11\u001b[0m \u001b[38;5;28;01mfor\u001b[39;00m i \u001b[38;5;129;01min\u001b[39;00m product_toy_game:\n\u001b[0;32m     12\u001b[0m     i\u001b[38;5;241m.\u001b[39mcategories\u001b[38;5;241m.\u001b[39madd(cate1)\n\u001b[1;32m---> 14\u001b[0m cate2 \u001b[38;5;241m=\u001b[39m \u001b[43mProductCategory\u001b[49m\u001b[38;5;241;43m.\u001b[39;49m\u001b[43mobjects\u001b[49m\u001b[38;5;241;43m.\u001b[39;49m\u001b[43mget\u001b[49m\u001b[43m(\u001b[49m\u001b[43mname\u001b[49m\u001b[43m \u001b[49m\u001b[38;5;241;43m=\u001b[39;49m\u001b[43m \u001b[49m\u001b[38;5;124;43m\"\u001b[39;49m\u001b[38;5;124;43mToys and Games\u001b[39;49m\u001b[38;5;124;43m\"\u001b[39;49m\u001b[43m)\u001b[49m\n\u001b[0;32m     15\u001b[0m cate2\u001b[38;5;241m.\u001b[39mdelete()\n\u001b[0;32m     17\u001b[0m \u001b[38;5;66;03m#3\u001b[39;00m\n",
      "File \u001b[1;32m~\\Desktop\\Server Side\\week5\\myvenv\\Lib\\site-packages\\django\\db\\models\\manager.py:87\u001b[0m, in \u001b[0;36mBaseManager._get_queryset_methods.<locals>.create_method.<locals>.manager_method\u001b[1;34m(self, *args, **kwargs)\u001b[0m\n\u001b[0;32m     85\u001b[0m \u001b[38;5;129m@wraps\u001b[39m(method)\n\u001b[0;32m     86\u001b[0m \u001b[38;5;28;01mdef\u001b[39;00m \u001b[38;5;21mmanager_method\u001b[39m(\u001b[38;5;28mself\u001b[39m, \u001b[38;5;241m*\u001b[39margs, \u001b[38;5;241m*\u001b[39m\u001b[38;5;241m*\u001b[39mkwargs):\n\u001b[1;32m---> 87\u001b[0m     \u001b[38;5;28;01mreturn\u001b[39;00m \u001b[38;5;28;43mgetattr\u001b[39;49m\u001b[43m(\u001b[49m\u001b[38;5;28;43mself\u001b[39;49m\u001b[38;5;241;43m.\u001b[39;49m\u001b[43mget_queryset\u001b[49m\u001b[43m(\u001b[49m\u001b[43m)\u001b[49m\u001b[43m,\u001b[49m\u001b[43m \u001b[49m\u001b[43mname\u001b[49m\u001b[43m)\u001b[49m\u001b[43m(\u001b[49m\u001b[38;5;241;43m*\u001b[39;49m\u001b[43margs\u001b[49m\u001b[43m,\u001b[49m\u001b[43m \u001b[49m\u001b[38;5;241;43m*\u001b[39;49m\u001b[38;5;241;43m*\u001b[39;49m\u001b[43mkwargs\u001b[49m\u001b[43m)\u001b[49m\n",
      "File \u001b[1;32m~\\Desktop\\Server Side\\week5\\myvenv\\Lib\\site-packages\\django\\db\\models\\query.py:649\u001b[0m, in \u001b[0;36mQuerySet.get\u001b[1;34m(self, *args, **kwargs)\u001b[0m\n\u001b[0;32m    647\u001b[0m     \u001b[38;5;28;01mreturn\u001b[39;00m clone\u001b[38;5;241m.\u001b[39m_result_cache[\u001b[38;5;241m0\u001b[39m]\n\u001b[0;32m    648\u001b[0m \u001b[38;5;28;01mif\u001b[39;00m \u001b[38;5;129;01mnot\u001b[39;00m num:\n\u001b[1;32m--> 649\u001b[0m     \u001b[38;5;28;01mraise\u001b[39;00m \u001b[38;5;28mself\u001b[39m\u001b[38;5;241m.\u001b[39mmodel\u001b[38;5;241m.\u001b[39mDoesNotExist(\n\u001b[0;32m    650\u001b[0m         \u001b[38;5;124m\"\u001b[39m\u001b[38;5;132;01m%s\u001b[39;00m\u001b[38;5;124m matching query does not exist.\u001b[39m\u001b[38;5;124m\"\u001b[39m \u001b[38;5;241m%\u001b[39m \u001b[38;5;28mself\u001b[39m\u001b[38;5;241m.\u001b[39mmodel\u001b[38;5;241m.\u001b[39m_meta\u001b[38;5;241m.\u001b[39mobject_name\n\u001b[0;32m    651\u001b[0m     )\n\u001b[0;32m    652\u001b[0m \u001b[38;5;28;01mraise\u001b[39;00m \u001b[38;5;28mself\u001b[39m\u001b[38;5;241m.\u001b[39mmodel\u001b[38;5;241m.\u001b[39mMultipleObjectsReturned(\n\u001b[0;32m    653\u001b[0m     \u001b[38;5;124m\"\u001b[39m\u001b[38;5;124mget() returned more than one \u001b[39m\u001b[38;5;132;01m%s\u001b[39;00m\u001b[38;5;124m -- it returned \u001b[39m\u001b[38;5;132;01m%s\u001b[39;00m\u001b[38;5;124m!\u001b[39m\u001b[38;5;124m\"\u001b[39m\n\u001b[0;32m    654\u001b[0m     \u001b[38;5;241m%\u001b[39m (\n\u001b[1;32m   (...)\u001b[0m\n\u001b[0;32m    657\u001b[0m     )\n\u001b[0;32m    658\u001b[0m )\n",
      "\u001b[1;31mDoesNotExist\u001b[0m: ProductCategory matching query does not exist."
     ]
    }
   ],
   "source": [
    "#1\n",
    "cate1 = ProductCategory.objects.get(name = \"Books and Media\")\n",
    "cate1.name = \"Books and Toys\"\n",
    "cate1.save()\n",
    "cate1 = ProductCategory.objects.get(name = \"Books and Toys\")\n",
    "#2\n",
    "\n",
    "\n",
    "product_toy_game = Product.objects.filter(categories__name = \"Toys and Games\")\n",
    "\n",
    "for i in product_toy_game:\n",
    "    i.categories.add(cate1)\n",
    "\n",
    "cate2 = ProductCategory.objects.get(name = \"Toys and Games\")\n",
    "cate2.delete()\n",
    "\n",
    "#3\n",
    "product_book_toy = Product.objects.filter(categories__name = \"Books and Toys\").count()\n",
    "print(product_book_toy)\n"
   ]
  },
  {
   "cell_type": "code",
   "execution_count": null,
   "metadata": {},
   "outputs": [],
   "source": []
  },
  {
   "cell_type": "code",
   "execution_count": null,
   "metadata": {},
   "outputs": [],
   "source": []
  }
 ],
 "metadata": {
  "kernelspec": {
   "display_name": "Django Shell-Plus",
   "language": "python",
   "name": "django_extensions"
  },
  "language_info": {
   "codemirror_mode": {
    "name": "ipython",
    "version": 3
   },
   "file_extension": ".py",
   "mimetype": "text/x-python",
   "name": "python",
   "nbconvert_exporter": "python",
   "pygments_lexer": "ipython3",
   "version": "3.12.3"
  }
 },
 "nbformat": 4,
 "nbformat_minor": 2
}
